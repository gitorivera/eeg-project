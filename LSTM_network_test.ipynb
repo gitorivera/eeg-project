{
 "cells": [
  {
   "cell_type": "code",
   "execution_count": 1,
   "metadata": {},
   "outputs": [],
   "source": [
    "import numpy as np\n",
    "from keras.models import Sequential\n",
    "from keras.layers import LSTM, Dense\n",
    "from sklearn.model_selection import train_test_split\n",
    "from sklearn.preprocessing import StandardScaler\n",
    "from sklearn.metrics import mean_squared_error\n",
    "from sklearn.metrics import r2_score"
   ]
  },
  {
   "cell_type": "code",
   "execution_count": 2,
   "metadata": {},
   "outputs": [],
   "source": [
    "x = np.load('data/EEG_all_epochs.npy')\n",
    "y = np.load('data/EEG_contaminated_with_EOG/EEG_contaminated_with_EOG_1db.npy')"
   ]
  },
  {
   "attachments": {},
   "cell_type": "markdown",
   "metadata": {},
   "source": [
    "# Preprocesamiento de los datos en preparacion para la LSTM"
   ]
  },
  {
   "cell_type": "code",
   "execution_count": 3,
   "metadata": {},
   "outputs": [
    {
     "name": "stdout",
     "output_type": "stream",
     "text": [
      "(45, 100, 512)\n",
      "(45, 100, 512)\n"
     ]
    }
   ],
   "source": [
    "#Normalizacion de los datos\n",
    "scaler = StandardScaler()\n",
    "x_norm = scaler.fit_transform(x)\n",
    "y_norm = scaler.fit_transform(y)\n",
    "\n",
    "#Reshape de los datos\n",
    "timesteps = 100\n",
    "n_samples, n_features = x_norm.shape\n",
    "n_sequences = n_samples // timesteps\n",
    "x_reshaped = np.reshape(x_norm[:n_sequences * timesteps, :], (n_sequences, timesteps, n_features))\n",
    "\n",
    "n_samples, n_features = y_norm.shape\n",
    "n_sequences = n_samples // timesteps\n",
    "y_reshaped = np.reshape(y_norm[:n_sequences * timesteps, :], (n_sequences, timesteps, n_features))\n",
    "\n",
    "print(x_reshaped.shape)\n",
    "print(y_reshaped.shape)"
   ]
  },
  {
   "cell_type": "code",
   "execution_count": 4,
   "metadata": {},
   "outputs": [],
   "source": [
    "x_train, x_test, y_train, y_test = train_test_split(x_reshaped, y_reshaped, test_size=0.2, random_state=42)"
   ]
  },
  {
   "cell_type": "code",
   "execution_count": 5,
   "metadata": {},
   "outputs": [
    {
     "name": "stdout",
     "output_type": "stream",
     "text": [
      "(36, 100, 512)\n",
      "(9, 100, 512)\n",
      "(36, 100, 512)\n",
      "(9, 100, 512)\n"
     ]
    }
   ],
   "source": [
    "print(x_train.shape)\n",
    "print(x_test.shape)\n",
    "print(y_train.shape)\n",
    "print(y_test.shape)\n"
   ]
  },
  {
   "cell_type": "code",
   "execution_count": 6,
   "metadata": {},
   "outputs": [],
   "source": [
    "model = Sequential()\n",
    "model.add(LSTM(64, return_sequences=True, input_shape=(timesteps, n_features)))\n",
    "model.add(LSTM(32, return_sequences=True))\n",
    "model.add(Dense(16, activation='relu'))\n",
    "model.add(Dense(n_features))\n",
    "model.compile(loss='mean_squared_error', optimizer='adam')\n"
   ]
  },
  {
   "cell_type": "code",
   "execution_count": 7,
   "metadata": {},
   "outputs": [
    {
     "name": "stdout",
     "output_type": "stream",
     "text": [
      "Epoch 1/50\n",
      "2/2 [==============================] - 8s 1s/step - loss: 0.9982 - val_loss: 1.0211\n",
      "Epoch 2/50\n",
      "2/2 [==============================] - 0s 98ms/step - loss: 0.9964 - val_loss: 1.0208\n",
      "Epoch 3/50\n",
      "2/2 [==============================] - 0s 99ms/step - loss: 0.9955 - val_loss: 1.0206\n",
      "Epoch 4/50\n",
      "2/2 [==============================] - 0s 99ms/step - loss: 0.9949 - val_loss: 1.0204\n",
      "Epoch 5/50\n",
      "2/2 [==============================] - 0s 99ms/step - loss: 0.9943 - val_loss: 1.0202\n",
      "Epoch 6/50\n",
      "2/2 [==============================] - 0s 100ms/step - loss: 0.9936 - val_loss: 1.0200\n",
      "Epoch 7/50\n",
      "2/2 [==============================] - 0s 101ms/step - loss: 0.9929 - val_loss: 1.0198\n",
      "Epoch 8/50\n",
      "2/2 [==============================] - 0s 102ms/step - loss: 0.9922 - val_loss: 1.0195\n",
      "Epoch 9/50\n",
      "2/2 [==============================] - 0s 100ms/step - loss: 0.9914 - val_loss: 1.0192\n",
      "Epoch 10/50\n",
      "2/2 [==============================] - 0s 100ms/step - loss: 0.9905 - val_loss: 1.0189\n",
      "Epoch 11/50\n",
      "2/2 [==============================] - 0s 99ms/step - loss: 0.9895 - val_loss: 1.0187\n",
      "Epoch 12/50\n",
      "2/2 [==============================] - 0s 96ms/step - loss: 0.9884 - val_loss: 1.0184\n",
      "Epoch 13/50\n",
      "2/2 [==============================] - 0s 100ms/step - loss: 0.9873 - val_loss: 1.0181\n",
      "Epoch 14/50\n",
      "2/2 [==============================] - 0s 98ms/step - loss: 0.9861 - val_loss: 1.0177\n",
      "Epoch 15/50\n",
      "2/2 [==============================] - 0s 97ms/step - loss: 0.9848 - val_loss: 1.0173\n",
      "Epoch 16/50\n",
      "2/2 [==============================] - 0s 101ms/step - loss: 0.9833 - val_loss: 1.0169\n",
      "Epoch 17/50\n",
      "2/2 [==============================] - 0s 103ms/step - loss: 0.9817 - val_loss: 1.0163\n",
      "Epoch 18/50\n",
      "2/2 [==============================] - 0s 106ms/step - loss: 0.9801 - val_loss: 1.0158\n",
      "Epoch 19/50\n",
      "2/2 [==============================] - 0s 101ms/step - loss: 0.9783 - val_loss: 1.0152\n",
      "Epoch 20/50\n",
      "2/2 [==============================] - 0s 107ms/step - loss: 0.9764 - val_loss: 1.0147\n",
      "Epoch 21/50\n",
      "2/2 [==============================] - 0s 155ms/step - loss: 0.9745 - val_loss: 1.0141\n",
      "Epoch 22/50\n",
      "2/2 [==============================] - 0s 108ms/step - loss: 0.9724 - val_loss: 1.0136\n",
      "Epoch 23/50\n",
      "2/2 [==============================] - 0s 110ms/step - loss: 0.9702 - val_loss: 1.0129\n",
      "Epoch 24/50\n",
      "2/2 [==============================] - 0s 109ms/step - loss: 0.9680 - val_loss: 1.0123\n",
      "Epoch 25/50\n",
      "2/2 [==============================] - 0s 109ms/step - loss: 0.9656 - val_loss: 1.0117\n",
      "Epoch 26/50\n",
      "2/2 [==============================] - 0s 106ms/step - loss: 0.9632 - val_loss: 1.0111\n",
      "Epoch 27/50\n",
      "2/2 [==============================] - 0s 114ms/step - loss: 0.9606 - val_loss: 1.0104\n",
      "Epoch 28/50\n",
      "2/2 [==============================] - 0s 106ms/step - loss: 0.9580 - val_loss: 1.0097\n",
      "Epoch 29/50\n",
      "2/2 [==============================] - 0s 120ms/step - loss: 0.9554 - val_loss: 1.0089\n",
      "Epoch 30/50\n",
      "2/2 [==============================] - 0s 107ms/step - loss: 0.9526 - val_loss: 1.0080\n",
      "Epoch 31/50\n",
      "2/2 [==============================] - 0s 115ms/step - loss: 0.9499 - val_loss: 1.0073\n",
      "Epoch 32/50\n",
      "2/2 [==============================] - 0s 111ms/step - loss: 0.9471 - val_loss: 1.0068\n",
      "Epoch 33/50\n",
      "2/2 [==============================] - 0s 110ms/step - loss: 0.9442 - val_loss: 1.0061\n",
      "Epoch 34/50\n",
      "2/2 [==============================] - 0s 108ms/step - loss: 0.9413 - val_loss: 1.0053\n",
      "Epoch 35/50\n",
      "2/2 [==============================] - 0s 109ms/step - loss: 0.9384 - val_loss: 1.0046\n",
      "Epoch 36/50\n",
      "2/2 [==============================] - 0s 109ms/step - loss: 0.9354 - val_loss: 1.0040\n",
      "Epoch 37/50\n",
      "2/2 [==============================] - 0s 116ms/step - loss: 0.9324 - val_loss: 1.0033\n",
      "Epoch 38/50\n",
      "2/2 [==============================] - 0s 109ms/step - loss: 0.9295 - val_loss: 1.0024\n",
      "Epoch 39/50\n",
      "2/2 [==============================] - 0s 110ms/step - loss: 0.9265 - val_loss: 1.0012\n",
      "Epoch 40/50\n",
      "2/2 [==============================] - 0s 108ms/step - loss: 0.9236 - val_loss: 1.0001\n",
      "Epoch 41/50\n",
      "2/2 [==============================] - 0s 105ms/step - loss: 0.9207 - val_loss: 0.9994\n",
      "Epoch 42/50\n",
      "2/2 [==============================] - 0s 108ms/step - loss: 0.9178 - val_loss: 0.9986\n",
      "Epoch 43/50\n",
      "2/2 [==============================] - 0s 108ms/step - loss: 0.9150 - val_loss: 0.9976\n",
      "Epoch 44/50\n",
      "2/2 [==============================] - 0s 108ms/step - loss: 0.9123 - val_loss: 0.9968\n",
      "Epoch 45/50\n",
      "2/2 [==============================] - 0s 106ms/step - loss: 0.9094 - val_loss: 0.9958\n",
      "Epoch 46/50\n",
      "2/2 [==============================] - 0s 108ms/step - loss: 0.9067 - val_loss: 0.9950\n",
      "Epoch 47/50\n",
      "2/2 [==============================] - 0s 111ms/step - loss: 0.9037 - val_loss: 0.9942\n",
      "Epoch 48/50\n",
      "2/2 [==============================] - 0s 112ms/step - loss: 0.9010 - val_loss: 0.9934\n",
      "Epoch 49/50\n",
      "2/2 [==============================] - 0s 113ms/step - loss: 0.8982 - val_loss: 0.9925\n",
      "Epoch 50/50\n",
      "2/2 [==============================] - 0s 114ms/step - loss: 0.8954 - val_loss: 0.9917\n"
     ]
    },
    {
     "data": {
      "text/plain": [
       "<keras.callbacks.History at 0x22787ea6830>"
      ]
     },
     "execution_count": 7,
     "metadata": {},
     "output_type": "execute_result"
    }
   ],
   "source": [
    "model.fit(x_train, y_train, batch_size=32, epochs=50, validation_data=(x_test, y_test))"
   ]
  },
  {
   "cell_type": "code",
   "execution_count": 8,
   "metadata": {},
   "outputs": [
    {
     "name": "stdout",
     "output_type": "stream",
     "text": [
      "1/1 [==============================] - 0s 34ms/step - loss: 0.9917\n"
     ]
    }
   ],
   "source": [
    "score = model.evaluate(x_test, y_test)"
   ]
  },
  {
   "cell_type": "code",
   "execution_count": 9,
   "metadata": {},
   "outputs": [
    {
     "name": "stdout",
     "output_type": "stream",
     "text": [
      "1/1 [==============================] - 1s 1s/step\n"
     ]
    }
   ],
   "source": [
    "y_limpiado = model.predict(y_test)\n",
    "\n"
   ]
  },
  {
   "cell_type": "code",
   "execution_count": 11,
   "metadata": {},
   "outputs": [
    {
     "ename": "ValueError",
     "evalue": "cannot reshape array of size 460800 into shape (9,512)",
     "output_type": "error",
     "traceback": [
      "\u001b[1;31m---------------------------------------------------------------------------\u001b[0m",
      "\u001b[1;31mValueError\u001b[0m                                Traceback (most recent call last)",
      "Cell \u001b[1;32mIn[11], line 2\u001b[0m\n\u001b[0;32m      1\u001b[0m n_samples, n_timesteps, n_features \u001b[39m=\u001b[39m y_test\u001b[39m.\u001b[39mshape\n\u001b[1;32m----> 2\u001b[0m y_test_reshaped \u001b[39m=\u001b[39m y_test\u001b[39m.\u001b[39;49mreshape((n_samples, n_features))\n",
      "\u001b[1;31mValueError\u001b[0m: cannot reshape array of size 460800 into shape (9,512)"
     ]
    }
   ],
   "source": [
    "n_samples, n_timesteps, n_features = y_test.shape\n",
    "y_test_reshaped = y_test.reshape((n_samples, n_features))"
   ]
  },
  {
   "cell_type": "code",
   "execution_count": null,
   "metadata": {},
   "outputs": [],
   "source": [
    "mse = mean_squared_error(y_limpiado, y_test)\n",
    "r2 = r2_score(y_limpiado, y_test)\n",
    "\n",
    "print(\"MSE:\", mse)\n",
    "print(\"R2:\", r2)"
   ]
  }
 ],
 "metadata": {
  "kernelspec": {
   "display_name": "eeg",
   "language": "python",
   "name": "python3"
  },
  "language_info": {
   "codemirror_mode": {
    "name": "ipython",
    "version": 3
   },
   "file_extension": ".py",
   "mimetype": "text/x-python",
   "name": "python",
   "nbconvert_exporter": "python",
   "pygments_lexer": "ipython3",
   "version": "3.10.11"
  },
  "orig_nbformat": 4
 },
 "nbformat": 4,
 "nbformat_minor": 2
}
