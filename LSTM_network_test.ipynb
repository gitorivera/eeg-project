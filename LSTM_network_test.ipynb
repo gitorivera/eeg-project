{
 "cells": [
  {
   "cell_type": "code",
   "execution_count": 11,
   "metadata": {},
   "outputs": [],
   "source": [
    "import numpy as np\n",
    "from keras.models import Sequential\n",
    "from keras.layers import LSTM, Dense\n",
    "from sklearn.model_selection import train_test_split\n",
    "from sklearn.preprocessing import StandardScaler"
   ]
  },
  {
   "cell_type": "code",
   "execution_count": 12,
   "metadata": {},
   "outputs": [],
   "source": [
    "x = np.load('data/EEG_all_epochs.npy')\n",
    "y = np.load('data/EEG_contaminated_with_EOG/EEG_contaminated_with_EOG_1db.npy')"
   ]
  },
  {
   "attachments": {},
   "cell_type": "markdown",
   "metadata": {},
   "source": [
    "# Preprocesamiento de los datos en preparacion para la LSTM"
   ]
  },
  {
   "cell_type": "code",
   "execution_count": 13,
   "metadata": {},
   "outputs": [
    {
     "name": "stdout",
     "output_type": "stream",
     "text": [
      "(45, 100, 512)\n",
      "(45, 100, 512)\n"
     ]
    }
   ],
   "source": [
    "#Normalizacion de los datos\n",
    "scaler = StandardScaler()\n",
    "x_norm = scaler.fit_transform(x)\n",
    "y_norm = scaler.fit_transform(y)\n",
    "\n",
    "#Reshape de los datos\n",
    "timesteps = 100\n",
    "n_samples, n_features = x_norm.shape\n",
    "n_sequences = n_samples // timesteps\n",
    "x_reshaped = np.reshape(x_norm[:n_sequences * timesteps, :], (n_sequences, timesteps, n_features))\n",
    "\n",
    "n_samples, n_features = y_norm.shape\n",
    "n_sequences = n_samples // timesteps\n",
    "y_reshaped = np.reshape(y_norm[:n_sequences * timesteps, :], (n_sequences, timesteps, n_features))\n",
    "\n",
    "print(x_reshaped.shape)\n",
    "print(y_reshaped.shape)"
   ]
  },
  {
   "cell_type": "code",
   "execution_count": 14,
   "metadata": {},
   "outputs": [],
   "source": [
    "x_train, x_test, y_train, y_test = train_test_split(x_reshaped, y_reshaped, test_size=0.2, random_state=42)"
   ]
  },
  {
   "cell_type": "code",
   "execution_count": 15,
   "metadata": {},
   "outputs": [],
   "source": [
    "model = Sequential()\n",
    "model.add(LSTM(64, return_sequences=True, input_shape=(timesteps, n_features)))\n",
    "model.add(LSTM(32, return_sequences=False))\n",
    "model.add(Dense(n_features))\n",
    "model.compile(loss='mean_squared_error', optimizer='adam')"
   ]
  },
  {
   "cell_type": "code",
   "execution_count": null,
   "metadata": {},
   "outputs": [],
   "source": [
    "model.fit(x_train, y_train, batch_size=32, epochs=50, validation_data=(x_test, y_test))"
   ]
  },
  {
   "cell_type": "code",
   "execution_count": null,
   "metadata": {},
   "outputs": [],
   "source": [
    "score = model.evaluate(x_test, y_test)"
   ]
  }
 ],
 "metadata": {
  "kernelspec": {
   "display_name": "eeg",
   "language": "python",
   "name": "python3"
  },
  "language_info": {
   "codemirror_mode": {
    "name": "ipython",
    "version": 3
   },
   "file_extension": ".py",
   "mimetype": "text/x-python",
   "name": "python",
   "nbconvert_exporter": "python",
   "pygments_lexer": "ipython3",
   "version": "3.10.11"
  },
  "orig_nbformat": 4
 },
 "nbformat": 4,
 "nbformat_minor": 2
}
