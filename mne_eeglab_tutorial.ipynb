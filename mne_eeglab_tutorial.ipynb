{
 "cells": [
  {
   "attachments": {},
   "cell_type": "markdown",
   "metadata": {},
   "source": [
    "# Tutorial del manejo del mne\n",
    "Este breve tutorial busca replicar el tutorial de la librería eeglab utilizando el mne. Para ello se utilizará el dataset de la competencia de Kaggle de EEG. El dataset se encuentra en el siguiente link: https://www.kaggle.com/c/grasp-and-lift-eeg-detection/data\n",
    "\n",
    "## Lectura de los datos"
   ]
  },
  {
   "cell_type": "code",
   "execution_count": 2,
   "metadata": {},
   "outputs": [
    {
     "name": "stdout",
     "output_type": "stream",
     "text": [
      "Reading /Users/jorgerivera/Dropbox/Programming/eeg_project/data/eeglab_data.fdt\n",
      "Reading 0 ... 30503  =      0.000 ...   238.305 secs...\n",
      "Overwriting existing file.\n",
      "Writing /Users/jorgerivera/Dropbox/Programming/eeg_project/data/eeglab_eeg.fif\n",
      "Closing /Users/jorgerivera/Dropbox/Programming/eeg_project/data/eeglab_eeg.fif\n",
      "[done]\n",
      "<class 'mne.io.eeglab.eeglab.RawEEGLAB'>\n"
     ]
    }
   ],
   "source": [
    "import mne\n",
    "\n",
    "eeglab_raw = mne.io.read_raw_eeglab('data/eeglab_data.set', preload=True)\n",
    "#guardalo como un archivo fif\n",
    "eeglab_raw.save('data/eeglab_eeg.fif', overwrite=True)\n",
    "print(type(eeglab_raw))"
   ]
  },
  {
   "attachments": {},
   "cell_type": "markdown",
   "metadata": {},
   "source": [
    "# Lectura de los eventos\n",
    "MNE permite manejar los eventos de forma sencilla a través de las funciones que proporciona la librería. Los eventos se refieren a los momentos en los que ocurren estímulos o eventos durante la grabación de una señal de EEG, y se almacenan en un archivo de eventos. Cada evento se describe por un marcador, que es una etiqueta que lo identifica, y un tiempo que indica cuándo ocurrió el evento.\n",
    "\n",
    "Para trabajar con eventos en MNE, puedes seguir los siguientes pasos:\n",
    "\n",
    "Cargar los datos EEG y los eventos asociados en un objeto Raw de MNE. Para esto, utiliza las funciones mne.io.read_raw_*() y mne.read_events(). Por ejemplo:\n",
    "\n",
    "````python\n",
    "raw = mne.io.read_raw_fif('archivo.fif', preload=True)\n",
    "events = mne.read_events('archivo.fif')\n",
    "\n",
    "````\n",
    "EL objeto 'events' es un arreglo de numpy de 3 columnas, donde cada fila representa un evento. La primera columna contiene el tiempo del evento, la segunda columna contiene el valor del marcador y la tercera columna contiene el número de canal.\n",
    "\n",
    "\n"
   ]
  },
  {
   "cell_type": "code",
   "execution_count": 3,
   "metadata": {},
   "outputs": [
    {
     "name": "stdout",
     "output_type": "stream",
     "text": [
      "Used Annotations descriptions: ['rt', 'square']\n"
     ]
    }
   ],
   "source": [
    "events, event_dict = mne.events_from_annotations(eeglab_raw)"
   ]
  },
  {
   "cell_type": "code",
   "execution_count": null,
   "metadata": {},
   "outputs": [],
   "source": [
    "cuadrado = events[events[:, 2] == event_dict['square']]\n",
    "rt=events[events[:, 2] == event_dict['rt']]\n"
   ]
  },
  {
   "attachments": {},
   "cell_type": "markdown",
   "metadata": {},
   "source": [
    "## Obtención del tipo de evento y su latencia\n",
    "Esta función devuelve el tipo de evento y su latencia en milisegundos. Para ello, se utiliza la función mne.find_events().\n",
    "\n",
    " \n"
   ]
  },
  {
   "cell_type": "code",
   "execution_count": 11,
   "metadata": {},
   "outputs": [
    {
     "data": {
      "text/plain": [
       "float"
      ]
     },
     "execution_count": 11,
     "metadata": {},
     "output_type": "execute_result"
    }
   ],
   "source": [
    "freq=eeglab_raw.info['sfreq']\n",
    "type(freq)\n",
    "#events[:,0]*=(1/freq)"
   ]
  },
  {
   "attachments": {},
   "cell_type": "markdown",
   "metadata": {},
   "source": [
    "## Función que retorna el nombre del evento a partir del valor del marcador\n",
    "Esta función lee el archivo de eventos y devuelve el nombre del evento  tal cuál aparece en el diccionario de eventos."
   ]
  },
  {
   "cell_type": "code",
   "execution_count": 41,
   "metadata": {},
   "outputs": [
    {
     "name": "stdout",
     "output_type": "stream",
     "text": [
      "square\n"
     ]
    }
   ],
   "source": [
    "def get_event_name(event_dict, value):\n",
    "    for key, val in event_dict.items():\n",
    "        if val == value:\n",
    "            return key\n",
    "evento=get_event_name(event_dict, 2)\n",
    "print(evento)\n"
   ]
  },
  {
   "attachments": {},
   "cell_type": "markdown",
   "metadata": {},
   "source": [
    "#"
   ]
  },
  {
   "cell_type": "code",
   "execution_count": 6,
   "metadata": {},
   "outputs": [
    {
     "name": "stdout",
     "output_type": "stream",
     "text": [
      "Event dict is: {'rt': 1, 'square': 2}\n",
      "Event dict rt is: 1\n"
     ]
    }
   ],
   "source": [
    "print(\"Event dict is:\", event_dict)\n",
    "print(\"Event dict rt is:\", event_dict['rt'])"
   ]
  },
  {
   "cell_type": "code",
   "execution_count": 7,
   "metadata": {},
   "outputs": [
    {
     "name": "stdout",
     "output_type": "stream",
     "text": [
      "{2: 80, 1: 74}\n"
     ]
    }
   ],
   "source": [
    "#definir una función para saber cuantos eventos hay de cada tipo\n",
    "def count_events(events):\n",
    "    event_dict = {}\n",
    "    for event in events:\n",
    "        if event[2] in event_dict:\n",
    "            event_dict[event[2]] += 1\n",
    "        else:\n",
    "            event_dict[event[2]] = 1\n",
    "    return event_dict\n",
    "print(count_events(events))"
   ]
  },
  {
   "cell_type": "code",
   "execution_count": 15,
   "metadata": {},
   "outputs": [
    {
     "name": "stdout",
     "output_type": "stream",
     "text": [
      "[array([267,   0,   1]), array([659,   0,   1]), array([1447,    0,    1]), array([1807,    0,    1]), array([2200,    0,    1]), array([2586,    0,    1]), array([2961,    0,    1]), array([3344,    0,    1]), array([3730,    0,    1]), array([4111,    0,    1]), array([4512,    0,    1]), array([4897,    0,    1]), array([5277,    0,    1]), array([5671,    0,    1]), array([6036,    0,    1]), array([6435,    0,    1]), array([6815,    0,    1]), array([7195,    0,    1]), array([7582,    0,    1]), array([7960,    0,    1]), array([8353,    0,    1]), array([8781,    0,    1]), array([9123,    0,    1]), array([9513,    0,    1]), array([10274,     0,     1]), array([10664,     0,     1]), array([11048,     0,     1]), array([11428,     0,     1]), array([11817,     0,     1]), array([12198,     0,     1]), array([12592,     0,     1]), array([12974,     0,     1]), array([13354,     0,     1]), array([13740,     0,     1]), array([14134,     0,     1]), array([14517,     0,     1]), array([14895,     0,     1]), array([15278,     0,     1]), array([15668,     0,     1]), array([16057,     0,     1]), array([16438,     0,     1]), array([16823,     0,     1]), array([17599,     0,     1]), array([17977,     0,     1]), array([18369,     0,     1]), array([18756,     0,     1]), array([19137,     0,     1]), array([19516,     0,     1]), array([19901,     0,     1]), array([20282,     0,     1]), array([20674,     0,     1]), array([21052,     0,     1]), array([21446,     0,     1]), array([21825,     0,     1]), array([22226,     0,     1]), array([22604,     0,     1]), array([22992,     0,     1]), array([23372,     0,     1]), array([23767,     0,     1]), array([24139,     0,     1]), array([24534,     0,     1]), array([24903,     0,     1]), array([25307,     0,     1]), array([25678,     0,     1]), array([26069,     0,     1]), array([26452,     0,     1]), array([27216,     0,     1]), array([27602,     0,     1]), array([27989,     0,     1]), array([28367,     0,     1]), array([29148,     0,     1]), array([29531,     0,     1]), array([29917,     0,     1]), array([30304,     0,     1])]\n"
     ]
    }
   ],
   "source": [
    "#define una funcion que devuelva un array con los eventos de un tipo y su duración\n",
    "def get_events(events, event_type):\n",
    "    event_array = []\n",
    "    for event in events:\n",
    "        if event[2] == event_type:\n",
    "            event_array.append(event)\n",
    "    return event_array\n",
    "array=get_events(events, 1)\n",
    "#imprime el array\n",
    "print(array)"
   ]
  },
  {
   "cell_type": "code",
   "execution_count": 16,
   "metadata": {},
   "outputs": [
    {
     "name": "stdout",
     "output_type": "stream",
     "text": [
      "128.0\n"
     ]
    }
   ],
   "source": [
    "#mostrar la frecuencia de muestro del dataset\n",
    "print(eeglab_raw.info['sfreq'])"
   ]
  },
  {
   "cell_type": "code",
   "execution_count": 31,
   "metadata": {},
   "outputs": [
    {
     "name": "stdout",
     "output_type": "stream",
     "text": [
      "[1807    0    1]\n"
     ]
    }
   ],
   "source": [
    "# construye una funcion que devuelva el tiempo de inicio y fin de un evento y el tipo de evento\n",
    "def get_event_time(events, event_type):\n",
    "    event_array = []\n",
    "    for event in events:\n",
    "        if event[2] == event_type:\n",
    "            event_array.append(event)\n",
    "    return event_array\n",
    "array=get_event_time(events, 1)\n",
    "#imprime el array\n",
    "print(array[3])\n"
   ]
  }
 ],
 "metadata": {
  "kernelspec": {
   "display_name": "tensorflow",
   "language": "python",
   "name": "python3"
  },
  "language_info": {
   "codemirror_mode": {
    "name": "ipython",
    "version": 3
   },
   "file_extension": ".py",
   "mimetype": "text/x-python",
   "name": "python",
   "nbconvert_exporter": "python",
   "pygments_lexer": "ipython3",
   "version": "3.9.13"
  },
  "orig_nbformat": 4,
  "vscode": {
   "interpreter": {
    "hash": "4bd624a0593993fe43ac4046b27b898fb2ef75c21c08f81e89e64ea0f51df676"
   }
  }
 },
 "nbformat": 4,
 "nbformat_minor": 2
}
