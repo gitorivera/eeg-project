{
 "cells": [
  {
   "attachments": {},
   "cell_type": "markdown",
   "metadata": {},
   "source": [
    "# Predicción de datos EEG contaminados con EOG\n",
    "\n",
    "En este proyecto, se entrena una red neuronal para predecir datos EEG contaminados con EOG utilizando la técnica de eliminación de artefactos utilizando redes neuronales (Feed Forward). Se utilizarán 10 archivos numpy que contienen los datos EEG contaminados con EOG a diferentes niveles de decibelios."
   ]
  },
  {
   "cell_type": "code",
   "execution_count": null,
   "metadata": {},
   "outputs": [],
   "source": [
    "import numpy as np\n",
    "from keras.models import Sequential\n",
    "from keras.layers import Dense\n",
    "from sklearn.model_selection import train_test_split\n",
    "from sklearn.metrics import mean_squared_error"
   ]
  },
  {
   "attachments": {},
   "cell_type": "markdown",
   "metadata": {},
   "source": [
    "Se consideran 10 bases de datos con niveles de SNR variados entre -7 dB y 2 dB"
   ]
  },
  {
   "cell_type": "code",
   "execution_count": null,
   "metadata": {},
   "outputs": [],
   "source": [
    "filenames = [f\"data/EEG_contaminated_with_EOG/EEG_contaminated_with_EOG_{i}db.npy\" for i in range(-7, 3)]\n",
    "\n",
    "corrs = []"
   ]
  },
  {
   "attachments": {},
   "cell_type": "markdown",
   "metadata": {},
   "source": [
    "Los datos se contrastaran siempre con la misma base de datos 'x'  pero variando las bases de datos contaminadas en y, posteriormente los datos se dividen en grupos de entrenamiento y validacion de una proporcion 1:10.\n",
    "\n",
    "El modelo que mejor resultado ha sido con la configuracion de 1 capa oculta (512, 256, 512), iterando por 300 epocas con batches de 32 de tamaño"
   ]
  },
  {
   "cell_type": "code",
   "execution_count": null,
   "metadata": {},
   "outputs": [],
   "source": [
    "for filename in filenames:\n",
    "    # Cargar los datos\n",
    "    x = np.load('data/EEG_all_epochs.npy')\n",
    "    y = np.load(filename)\n",
    "\n",
    "    x_train, x_val, y_train, y_val = train_test_split(x, y, test_size=0.1, random_state=42)\n",
    "\n",
    "    # Crear el modelo\n",
    "    model = Sequential()\n",
    "    model.add(Dense(512, input_dim=y_train.shape[1], activation='relu'))\n",
    "    model.add(Dense(256, activation='relu'))\n",
    "    model.add(Dense(512, activation='linear'))\n",
    "    model.compile(loss='mean_squared_error', optimizer='Nadam')\n",
    "\n",
    "    # Entrenar el modelo\n",
    "    model.fit(y_train, x_train, epochs=300, batch_size=32, verbose=1)\n",
    "\n",
    "    # Realizar las predicciones en el conjunto de validación\n",
    "    y_pred = model.predict(x_val)\n",
    "\n",
    "    # Calcular el coeficiente de correlación entre las predicciones y los datos de validación limpios\n",
    "    corr = np.corrcoef(y_val.reshape(-1), y_pred.reshape(-1))[0, 1]\n",
    "    print(f\"Coeficiente de correlación para {filename}: {corr}\")\n",
    "    corrs.append(corr)"
   ]
  },
  {
   "attachments": {},
   "cell_type": "markdown",
   "metadata": {},
   "source": [
    "Finalmente se evalua la red neuronal con el metodo del coeficiente de correlacion entre la base de datos 'x' y los diferentes 'y' que se testearon, sin embargo, los resultados obtenidos muestran un bajo rendimiento de este tipo de red neuronal, puesto que se testearon diferentes optimizadores, configuraciones y distintos hiperparamtros. Se observa un decenso especialmente alto en cuanto mas sucia esta la señal.\n",
    "\n",
    "Finalmente se guardan los datos de evaluacion para todos los niveles de contaminacion que se crearon artificialmente en un archivo 'corrs.txt'"
   ]
  },
  {
   "cell_type": "code",
   "execution_count": null,
   "metadata": {},
   "outputs": [],
   "source": [
    "np.savetxt('corrs.txt', corrs)\n",
    "\n",
    "#TODO: Cambiar activacion sigmoide por activacion relu, actualizar resultados en tabla de conveniencia \n",
    "#TODO: Cambiar activacion sigmoide por tanH, actualizar resultados en tabla de conveniencia"
   ]
  }
 ],
 "metadata": {
  "kernelspec": {
   "display_name": "eeg",
   "language": "python",
   "name": "python3"
  },
  "language_info": {
   "codemirror_mode": {
    "name": "ipython",
    "version": 3
   },
   "file_extension": ".py",
   "mimetype": "text/x-python",
   "name": "python",
   "nbconvert_exporter": "python",
   "pygments_lexer": "ipython3",
   "version": "3.10.11"
  },
  "orig_nbformat": 4
 },
 "nbformat": 4,
 "nbformat_minor": 2
}
