{
 "cells": [
  {
   "attachments": {},
   "cell_type": "markdown",
   "metadata": {},
   "source": [
    "# Pruebas una red neuronal con los datos de test\n",
    "En este notebook se  prueba una red neuronal con los datos descritos en el paper de [Haoming Zhang\n",
    "et al 2021](https://iopscience.iop.org/article/10.1088/1741-2552/ac2bf8/meta). La red neuronal es feed forward y se entrena con datos sintéticos."
   ]
  },
  {
   "cell_type": "code",
   "execution_count": 9,
   "metadata": {},
   "outputs": [],
   "source": [
    "# cargamos las librerias necesarias\n",
    "import numpy as np\n",
    "import math\n",
    "import mne\n",
    "import tensorflow as tf\n",
    "import matplotlib.pyplot as plt\n",
    "from tensorflow import keras\n",
    "from keras import layers\n",
    "from keras import models\n"
   ]
  },
  {
   "cell_type": "code",
   "execution_count": 10,
   "metadata": {},
   "outputs": [],
   "source": [
    "# cargamos los datos limpios que estan en el archivo EEG_all_epochs.npy de la carpeta data\n",
    "EEG_clean=np.load('data/EEG_all_epochs.npy')\n",
    "# cargamos los datos de artefactos oculares EOG que estan en el archivo EOG_all_epochs.npy de la carpeta data y los almacenas en una variable EEG_EOG\n",
    "EEG_EOG=np.load('data/EOG_all_epochs.npy')\n"
   ]
  },
  {
   "attachments": {},
   "cell_type": "markdown",
   "metadata": {},
   "source": [
    "### Creación de la señal EEG contaminada\n",
    "Para crear la señal contaminada se realiza la operación $y=x+\\lambda \\cdot n$. Donde $x$ es la señal original, $n$ es el ruido y $\\lambda$ es el factor de contaminación. Lambda se calcula a partir de la relación señal a ruido deseada, mediante la fórmula:\n",
    "$$\n",
    "SNR=10\\log_{10}\\left(\\frac{RMS(EEG_{limpio})}{RMS(ruido)}\\right)\n",
    "$$\n",
    "Donde:\n",
    "$$\n",
    "RMS(EEG_{limpio})=\\sqrt{\\frac{1}{N}\\sum_{i=1}^{N}x_{i}^{2}}\n",
    "$$\n",
    "corresponde a la raiz cuadratica media de la señal limpia y la raiz cuadrática media del ruido introducido es:\n",
    "$$\n",
    "RMS(ruido)=\\sqrt{\\frac{1}{N}\\sum_{i=1}^N(\\lambda\\cdot n_i)^2}\n",
    "$$\n"
   ]
  },
  {
   "cell_type": "code",
   "execution_count": 3,
   "metadata": {},
   "outputs": [],
   "source": [
    "x=EEG_clean.copy()\n",
    "n=EEG_EOG.copy()\n",
    "#Se toman la misma cantidad de muestras de señal limpia y ruido\n",
    "x=x[0:n.shape[0],:]\n",
    "# calculo de rms de la señal limpia\n",
    "rms_sample = np.sqrt(np.mean(x**2, axis=1))\n",
    "rms_general_x=np.mean(rms_sample)\n",
    "# calculo de rms del ruido\n",
    "rms_sample_n = np.sqrt(np.mean(n**2, axis=1))\n",
    "rms_general_n=np.mean(rms_sample_n)\n"
   ]
  },
  {
   "cell_type": "code",
   "execution_count": 6,
   "metadata": {},
   "outputs": [
    {
     "name": "stdout",
     "output_type": "stream",
     "text": [
      "218.9780209223996 128.67397466480674\n"
     ]
    }
   ],
   "source": [
    "print(rms_sample)"
   ]
  },
  {
   "attachments": {},
   "cell_type": "markdown",
   "metadata": {},
   "source": [
    "### Calculo de lambda\n",
    "Para calcular lambda se utiliza la siguiente expresión:\n",
    "$$\n",
    "\\lambda = \\sqrt{\\frac{\\sum_{i=1}^{N}x_i^2}{10^{\\frac{2SNR}{10}}\\sum_{i=1}^{N}n_i^2}}\n",
    "$$"
   ]
  },
  {
   "cell_type": "code",
   "execution_count": 8,
   "metadata": {},
   "outputs": [],
   "source": [
    "# lamba es igual a rms_x dividido rms_n\n",
    "lambd = rms_general_x/rms_general_n\n"
   ]
  },
  {
   "cell_type": "code",
   "execution_count": null,
   "metadata": {},
   "outputs": [],
   "source": [
    "\n",
    "\n",
    "def generar_seno():\n",
    "    # Definir el período de la señal\n",
    "    periodo = 32\n",
    "    # Crear el vector de tiempo\n",
    "    t = np.linspace(0, periodo, 256, endpoint=False)\n",
    "    # Generar la señal seno\n",
    "    seno = np.sin(2 * np.pi * t / periodo)\n",
    "    # Normalizar la amplitud a 1\n",
    "    seno = seno / np.max(np.abs(seno))\n",
    "    return seno"
   ]
  }
 ],
 "metadata": {
  "kernelspec": {
   "display_name": "tensorflow",
   "language": "python",
   "name": "python3"
  },
  "language_info": {
   "codemirror_mode": {
    "name": "ipython",
    "version": 3
   },
   "file_extension": ".py",
   "mimetype": "text/x-python",
   "name": "python",
   "nbconvert_exporter": "python",
   "pygments_lexer": "ipython3",
   "version": "3.11.3"
  },
  "orig_nbformat": 4,
  "vscode": {
   "interpreter": {
    "hash": "7093583eca9f2af4bc897629184256f3bb9656b7727927cb4491262d2ffa0244"
   }
  }
 },
 "nbformat": 4,
 "nbformat_minor": 2
}
