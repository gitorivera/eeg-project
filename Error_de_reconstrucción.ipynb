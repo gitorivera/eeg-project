{
  "nbformat": 4,
  "nbformat_minor": 0,
  "metadata": {
    "colab": {
      "provenance": [],
      "authorship_tag": "ABX9TyPUk0CpJuoEaEiwPKiWrE95",
      "include_colab_link": true
    },
    "kernelspec": {
      "name": "python3",
      "display_name": "Python 3"
    },
    "language_info": {
      "name": "python"
    }
  },
  "cells": [
    {
      "cell_type": "markdown",
      "metadata": {
        "id": "view-in-github",
        "colab_type": "text"
      },
      "source": [
        "<a href=\"https://colab.research.google.com/github/gitorivera/eeg-project/blob/main/Error_de_reconstrucci%C3%B3n.ipynb\" target=\"_parent\"><img src=\"https://colab.research.google.com/assets/colab-badge.svg\" alt=\"Open In Colab\"/></a>"
      ]
    },
    {
      "cell_type": "markdown",
      "source": [
        "#Experimento para cuadrar la métrica de error de reconstrucción\n",
        "El \"error de reconstrucción\" es una medida de la diferencia entre un conjunto original de datos y la versión reconstruida de esos datos después de que han sido transformados de alguna manera. Esta métrica es ampliamente utilizada en análisis de datos, procesamiento de señales, aprendizaje automático, entre otros, donde los datos originales suelen ser transformados para diversos fines, como reducción de dimensionalidad, eliminación de ruido (denoising), compresión.\n",
        "\n",
        "Para implementarla solo se necesita la librería Numpy"
      ],
      "metadata": {
        "id": "iYpLCvZWdnei"
      }
    },
    {
      "cell_type": "code",
      "source": [
        "import numpy as np\n"
      ],
      "metadata": {
        "id": "GxZalUQim803"
      },
      "execution_count": 19,
      "outputs": []
    },
    {
      "cell_type": "markdown",
      "source": [
        "### Señales para las pruebas\n",
        "En el contexto del aprendizaje de máquina se denota la señal original como $y$, y la señal reconstruida como $\\hat y$. La señal reconstruida en el caso de Denoising sería la señal que se obtiene después del proceso de remoción de ruido  "
      ],
      "metadata": {
        "id": "YUVqcsUYnAgP"
      }
    },
    {
      "cell_type": "code",
      "source": [
        "y = np.array([[1,2,3,4], [2,3,4,3], [1,2,3,2]])\n",
        "\n",
        "y_hat = np.array([[1,2,4.33,5.33], [2,3,5.33,6.33], [1,2,4.33,5.33]])"
      ],
      "metadata": {
        "id": "b6ZpgmgPozLY"
      },
      "execution_count": 20,
      "outputs": []
    },
    {
      "cell_type": "markdown",
      "source": [
        "La fórmula del error de construcción utilizando la MAE como métrica primaria, se define mediante la siguiente ecuación: $$ \\epsilon=\\frac{\\sum_{i=1}^n\\left( \\frac{\\sum_{j=1}^{m}|y_{ij}-\\hat{y}_{ij}|}{M}\\right)}{N}$$\n",
        "Donde $M$ es el número de segmentos de la señal y $M$ es el número de muestras por cada segmento.\n",
        "Por otro lado la desviación estandar del error de construcción $\\sigma_\\epsilon$ es: $$ \\sigma_\\epsilon =\\sqrt{\\frac{\\sum_{i=1}^{n}\\left(\\left(\\frac{\\sum_{j=1}^{m}|y_{ij}-\\hat{y_{ij}}|}{M}\\right)-\\mu\\right)^2}{N}} $$"
      ],
      "metadata": {
        "id": "tvYu4Cs2o3Dg"
      }
    },
    {
      "cell_type": "code",
      "source": [
        "# Número de segmentos de señal\n",
        "N = y.shape[0]\n",
        "# Número de muestras por segmento\n",
        "M = y.shape[1]\n",
        "\n",
        "#Cálculo de epsilon\n",
        "epsilon = np.mean( np.sum(np.abs(y-y_hat) / M, axis = 1))\n",
        "print(epsilon)\n",
        "#Cálculo de sigma\n",
        "sigma_e = np.sqrt(np.mean((np.sum(np.abs(y-y_hat)/M, axis=1)-epsilon)**2))\n",
        "print(sigma_e)"
      ],
      "metadata": {
        "colab": {
          "base_uri": "https://localhost:8080/"
        },
        "id": "a--ApLJBdjxS",
        "outputId": "986585ea-4235-4974-9283-159a090e6e70"
      },
      "execution_count": 23,
      "outputs": [
        {
          "output_type": "stream",
          "name": "stdout",
          "text": [
            "0.9983333333333334\n",
            "0.23570226039551584\n"
          ]
        }
      ]
    }
  ]
}