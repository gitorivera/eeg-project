{
  "cells": [
    {
      "cell_type": "markdown",
      "metadata": {
        "colab_type": "text",
        "id": "view-in-github"
      },
      "source": [
        "<a href=\"https://colab.research.google.com/github/gitorivera/eeg-project/blob/main/Error_de_reconstrucci%C3%B3n.ipynb\" target=\"_parent\"><img src=\"https://colab.research.google.com/assets/colab-badge.svg\" alt=\"Open In Colab\"/></a>"
      ]
    },
    {
      "cell_type": "markdown",
      "metadata": {
        "id": "iYpLCvZWdnei"
      },
      "source": [
        "#Experimento para cuadrar la métrica de error de reconstrucción\n",
        "El \"error de reconstrucción\" es una medida de la diferencia entre un conjunto original de datos y la versión reconstruida de esos datos después de que han sido transformados de alguna manera. Esta métrica es ampliamente utilizada en análisis de datos, procesamiento de señales, aprendizaje automático, entre otros, donde los datos originales suelen ser transformados para diversos fines, como reducción de dimensionalidad, eliminación de ruido (denoising), compresión.\n",
        "\n",
        "Para implementarla solo se necesita la librería Numpy"
      ]
    },
    {
      "cell_type": "code",
      "execution_count": 30,
      "metadata": {
        "id": "GxZalUQim803"
      },
      "outputs": [],
      "source": [
        "import numpy as np\n",
        "import metrics\n"
      ]
    },
    {
      "cell_type": "markdown",
      "metadata": {
        "id": "YUVqcsUYnAgP"
      },
      "source": [
        "### Señales para las pruebas\n",
        "En el contexto del aprendizaje de máquina se denota la señal original como $y$, y la señal reconstruida como $\\hat y$. La señal reconstruida en el caso de Denoising sería la señal que se obtiene después del proceso de remoción de ruido  "
      ]
    },
    {
      "cell_type": "code",
      "execution_count": 31,
      "metadata": {
        "id": "b6ZpgmgPozLY"
      },
      "outputs": [],
      "source": [
        "#Original\n",
        "y = np.array([[1,2,3,4], [2,3,4,3], [1,2,3,2]])\n",
        "\n",
        "#Reconstruido\n",
        "y_hat = np.array([[1,2,4.33,5.33], [2,3,5.33,6.33], [1,2,4.33,5.33]])"
      ]
    },
    {
      "cell_type": "markdown",
      "metadata": {
        "id": "tvYu4Cs2o3Dg"
      },
      "source": [
        "La fórmula del error de construcción utilizando la MAE como métrica primaria, se define mediante la siguiente ecuación: $$ \\epsilon=\\frac{\\sum_{i=1}^n\\left( \\frac{\\sum_{j=1}^{m}|y_{ij}-\\hat{y}_{ij}|}{M}\\right)}{N}$$\n",
        "Donde $M$ es el número de segmentos de la señal y $M$ es el número de muestras por cada segmento.\n",
        "Por otro lado la desviación estandar del error de construcción $\\sigma_\\epsilon$ es: $$ \\sigma_\\epsilon =\\sqrt{\\frac{\\sum_{i=1}^{n}\\left(\\left(\\frac{\\sum_{j=1}^{m}|y_{ij}-\\hat{y_{ij}}|}{M}\\right)-\\mu\\right)^2}{N}} $$"
      ]
    },
    {
      "cell_type": "code",
      "execution_count": 32,
      "metadata": {
        "colab": {
          "base_uri": "https://localhost:8080/"
        },
        "id": "a--ApLJBdjxS",
        "outputId": "986585ea-4235-4974-9283-159a090e6e70"
      },
      "outputs": [
        {
          "name": "stdout",
          "output_type": "stream",
          "text": [
            "0.9983333333333334\n",
            "0.23570226039551584\n",
            "0.9983333333333334\n",
            "3.700743415417188e-17\n"
          ]
        }
      ],
      "source": [
        "# Número de segmentos de señal\n",
        "N = y.shape[0]\n",
        "# Número de muestras por segmento\n",
        "M = y.shape[1]\n",
        "\n",
        "#Cálculo de epsilon\n",
        "epsilon = np.mean( np.sum(np.abs(y-y_hat) / M, axis = 1))\n",
        "print(epsilon)\n",
        "#Cálculo de sigma\n",
        "sigma_e = np.sqrt(np.mean((np.sum(np.abs(y-y_hat)/M, axis=1)-epsilon)**2))\n",
        "print(sigma_e)\n",
        "\n",
        "sigma_e, epsilon = metrics.re(y_hat, y, return_epsilon=True)\n",
        "print(epsilon)\n",
        "print(sigma_e)\n"
      ]
    }
  ],
  "metadata": {
    "colab": {
      "authorship_tag": "ABX9TyPUk0CpJuoEaEiwPKiWrE95",
      "include_colab_link": true,
      "provenance": []
    },
    "kernelspec": {
      "display_name": "Python 3",
      "name": "python3"
    },
    "language_info": {
      "codemirror_mode": {
        "name": "ipython",
        "version": 3
      },
      "file_extension": ".py",
      "mimetype": "text/x-python",
      "name": "python",
      "nbconvert_exporter": "python",
      "pygments_lexer": "ipython3",
      "version": "3.10.11"
    }
  },
  "nbformat": 4,
  "nbformat_minor": 0
}
