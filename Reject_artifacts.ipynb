{
 "cells": [
  {
   "attachments": {},
   "cell_type": "markdown",
   "metadata": {},
   "source": [
    "# Pipeline para el rechazo de artefactos en Electroencefalografía\n",
    "En este utilizaremos la base de datos que se utiliza de ejemplo en eeglab."
   ]
  },
  {
   "attachments": {},
   "cell_type": "markdown",
   "metadata": {},
   "source": [
    "## Cargamos las librerias y los archivos necesarios"
   ]
  },
  {
   "cell_type": "code",
   "execution_count": 8,
   "metadata": {},
   "outputs": [
    {
     "name": "stdout",
     "output_type": "stream",
     "text": [
      "Reading /Users/jorgerivera/Library/CloudStorage/Dropbox/Programming/eeg-project/eeg-project/data/eeglab_data.fdt\n",
      "Reading 0 ... 30503  =      0.000 ...   238.305 secs...\n",
      "Using qt as 2D backend.\n",
      "Using pyopengl with version 3.1.6\n"
     ]
    },
    {
     "data": {
      "text/plain": [
       "<mne_qt_browser._pg_figure.MNEQtBrowser at 0x1699a4af0>"
      ]
     },
     "execution_count": 8,
     "metadata": {},
     "output_type": "execute_result"
    }
   ],
   "source": [
    "import mne\n",
    "\n",
    "# Cargar datos desde un archivo (suponiendo que eeglab_raw ya existe)\n",
    "eeglab_raw = mne.io.read_raw_eeglab('./data/eeglab_data.set', preload=True)\n",
    "#mostrar información del archivo\n",
    "eeglab_raw.info\n",
    "eeglab_raw.plot()"
   ]
  },
  {
   "attachments": {},
   "cell_type": "markdown",
   "metadata": {},
   "source": [
    "# Filtrado de la señal\n",
    "Se utiliza un filtro pasa banda de 1 a 40 Hz"
   ]
  },
  {
   "cell_type": "code",
   "execution_count": 5,
   "metadata": {},
   "outputs": [
    {
     "name": "stdout",
     "output_type": "stream",
     "text": [
      "Filtering raw data in 1 contiguous segment\n",
      "Setting up band-pass filter from 1 - 40 Hz\n",
      "\n",
      "FIR filter parameters\n",
      "---------------------\n",
      "Designing a one-pass, zero-phase, non-causal bandpass filter:\n",
      "- Windowed time-domain design (firwin) method\n",
      "- Hamming window with 0.0194 passband ripple and 53 dB stopband attenuation\n",
      "- Lower passband edge: 1.00\n",
      "- Lower transition bandwidth: 1.00 Hz (-6 dB cutoff frequency: 0.50 Hz)\n",
      "- Upper passband edge: 40.00 Hz\n",
      "- Upper transition bandwidth: 10.00 Hz (-6 dB cutoff frequency: 45.00 Hz)\n",
      "- Filter length: 423 samples (3.305 sec)\n",
      "\n"
     ]
    },
    {
     "name": "stderr",
     "output_type": "stream",
     "text": [
      "[Parallel(n_jobs=1)]: Using backend SequentialBackend with 1 concurrent workers.\n",
      "[Parallel(n_jobs=1)]: Done   1 out of   1 | elapsed:    0.0s remaining:    0.0s\n",
      "[Parallel(n_jobs=1)]: Done   2 out of   2 | elapsed:    0.0s remaining:    0.0s\n",
      "[Parallel(n_jobs=1)]: Done   3 out of   3 | elapsed:    0.0s remaining:    0.0s\n",
      "[Parallel(n_jobs=1)]: Done   4 out of   4 | elapsed:    0.0s remaining:    0.0s\n",
      "[Parallel(n_jobs=1)]: Done  32 out of  32 | elapsed:    0.0s finished\n"
     ]
    }
   ],
   "source": [
    "l_freq = 1.0\n",
    "h_freq = 40.0\n",
    "eeglab_raw_filtered =eeglab_raw.copy().filter(l_freq, h_freq, fir_design='firwin')"
   ]
  },
  {
   "attachments": {},
   "cell_type": "markdown",
   "metadata": {},
   "source": [
    "### Acá se definen los valores típicos para ser rechazados. \n",
    "$150\\mu V$ para poner un umbral de rechazo.\n",
    "$1\\mu V$ para identificar los canales planos "
   ]
  },
  {
   "cell_type": "code",
   "execution_count": 6,
   "metadata": {},
   "outputs": [],
   "source": [
    "reject_criteria = dict(eeg=150e-6)  # valor umbral para los canales EEG (150 µV)\n",
    "flat_criteria = dict(eeg=1e-6) "
   ]
  },
  {
   "cell_type": "code",
   "execution_count": 22,
   "metadata": {},
   "outputs": [
    {
     "name": "stdout",
     "output_type": "stream",
     "text": [
      "Used Annotations descriptions: ['rt', 'square']\n",
      "<class 'numpy.ndarray'>\n"
     ]
    }
   ],
   "source": [
    "events=mne.events_from_annotations(eeglab_raw_filtered)\n",
    "print(type(events[0]))\n"
   ]
  },
  {
   "attachments": {},
   "cell_type": "markdown",
   "metadata": {},
   "source": [
    "### Creación de eventos y épocas\n",
    "Se van a crear las epocas a partir de un evento particular."
   ]
  },
  {
   "cell_type": "code",
   "execution_count": 24,
   "metadata": {},
   "outputs": [
    {
     "name": "stdout",
     "output_type": "stream",
     "text": [
      "Not setting metadata\n",
      "74 matching events found\n",
      "Setting baseline interval to [-0.203125, 0.0] sec\n",
      "Applying baseline correction (mode: mean)\n",
      "0 projection items activated\n",
      "Using data from preloaded Raw for 74 events and 91 original time points ...\n",
      "    Rejecting  epoch based on EEG : ['Fz', 'FC2']\n",
      "    Rejecting  epoch based on EEG : ['Cz', 'CP1', 'Pz']\n",
      "    Rejecting  epoch based on EEG : ['FPz', 'EOG1', 'F3', 'Fz']\n",
      "3 bad epochs dropped\n"
     ]
    }
   ],
   "source": [
    "event_id=1\n",
    "tmin, tmax = -0.2, 0.5\n",
    "epochs = mne.Epochs(eeglab_raw_filtered, events[0], event_id, tmin, tmax,  reject=reject_criteria, flat=flat_criteria, preload=True)"
   ]
  },
  {
   "cell_type": "code",
   "execution_count": 25,
   "metadata": {},
   "outputs": [
    {
     "name": "stdout",
     "output_type": "stream",
     "text": [
      "<class 'mne.epochs.Epochs'>\n"
     ]
    }
   ],
   "source": [
    "print(type(epochs))"
   ]
  },
  {
   "cell_type": "code",
   "execution_count": 26,
   "metadata": {},
   "outputs": [
    {
     "name": "stdout",
     "output_type": "stream",
     "text": [
      "Using pyopengl with version 3.1.6\n"
     ]
    },
    {
     "data": {
      "text/plain": [
       "<mne_qt_browser._pg_figure.MNEQtBrowser at 0x150ed1040>"
      ]
     },
     "execution_count": 26,
     "metadata": {},
     "output_type": "execute_result"
    },
    {
     "name": "stdout",
     "output_type": "stream",
     "text": [
      "Dropped 0 epochs: \n",
      "The following epochs were marked as bad and are dropped:\n",
      "[]\n",
      "Channels marked as bad:\n",
      "none\n"
     ]
    }
   ],
   "source": [
    "epochs.plot()"
   ]
  },
  {
   "cell_type": "code",
   "execution_count": null,
   "metadata": {},
   "outputs": [],
   "source": []
  }
 ],
 "metadata": {
  "kernelspec": {
   "display_name": "tensorflow",
   "language": "python",
   "name": "python3"
  },
  "language_info": {
   "codemirror_mode": {
    "name": "ipython",
    "version": 3
   },
   "file_extension": ".py",
   "mimetype": "text/x-python",
   "name": "python",
   "nbconvert_exporter": "python",
   "pygments_lexer": "ipython3",
   "version": "3.9.13"
  },
  "orig_nbformat": 4
 },
 "nbformat": 4,
 "nbformat_minor": 2
}
