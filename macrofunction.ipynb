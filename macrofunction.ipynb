{
 "cells": [
  {
   "cell_type": "code",
   "execution_count": 1,
   "metadata": {},
   "outputs": [],
   "source": [
    "from keras.models import load_model\n",
    "from sneiaTools import Metrics"
   ]
  },
  {
   "cell_type": "code",
   "execution_count": 2,
   "metadata": {},
   "outputs": [],
   "source": [
    "loadModel = load_model('model.h5')"
   ]
  },
  {
   "cell_type": "code",
   "execution_count": 3,
   "metadata": {},
   "outputs": [],
   "source": [
    "\"\"\"\n",
    "Function that allows me based on a pre-trained machine learning model, a test dataset \n",
    "and a metric of the user's choice to return that metric applied to the model that ran on \n",
    "the delivered dataset.\n",
    "We will use an assignment list where each metric will be assigned to an integer.\n",
    "[\"mae\", 0, \"mse\", 1, \"rmse\", 2, \"re\", 3]\n",
    "\"\"\"\n",
    "def metricsSelector(model, dataset, metric):\n",
    "    if metric == 0:\n",
    "        pass\n",
    "    elif metric == 1:\n",
    "        pass\n",
    "    elif metric == 2:\n",
    "        pass\n",
    "    elif metric == 3:\n",
    "        pass\n",
    "    \n",
    "#TODO: Determine how the test data will enter the function and how to make it interact with the preloaded model."
   ]
  }
 ],
 "metadata": {
  "kernelspec": {
   "display_name": "eeg",
   "language": "python",
   "name": "python3"
  },
  "language_info": {
   "codemirror_mode": {
    "name": "ipython",
    "version": 3
   },
   "file_extension": ".py",
   "mimetype": "text/x-python",
   "name": "python",
   "nbconvert_exporter": "python",
   "pygments_lexer": "ipython3",
   "version": "3.10.11"
  },
  "orig_nbformat": 4
 },
 "nbformat": 4,
 "nbformat_minor": 2
}
